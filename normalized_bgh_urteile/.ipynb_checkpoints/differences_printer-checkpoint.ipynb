{
 "cells": [
  {
   "cell_type": "code",
   "execution_count": 8,
   "id": "f3ba8f5c-7bfb-4395-8c8c-e24ce01915a7",
   "metadata": {},
   "outputs": [
    {
     "name": "stdout",
     "output_type": "stream",
     "text": [
      "No differences found.\n"
     ]
    }
   ],
   "source": [
    "import xml.etree.ElementTree as ET\n",
    "from difflib import unified_diff\n",
    "\n",
    "# Define the file paths\n",
    "original_file_path = './bgh_urteile/bgh_20100226_2-StR-510-09.xml'\n",
    "normalized_file_path = './normalized_bgh_urteile/normalized_bgh_20100226_2-StR-510-09.xml'\n",
    "\n",
    "# Load and parse the original XML file\n",
    "tree_original = ET.parse(original_file_path)\n",
    "root_original = tree_original.getroot()\n",
    "\n",
    "# Load and parse the normalized XML file\n",
    "tree_normalized = ET.parse(normalized_file_path)\n",
    "root_normalized = tree_normalized.getroot()\n",
    "\n",
    "# Function to get all text content from an XML tree\n",
    "def get_all_texts(root):\n",
    "    texts = []\n",
    "    for elem in root.iter():\n",
    "        if elem.text:\n",
    "            texts.append(elem.text.strip())\n",
    "    return texts\n",
    "\n",
    "# Get all text content from both files\n",
    "original_texts = get_all_texts(root_original)\n",
    "normalized_texts = get_all_texts(root_normalized)\n",
    "\n",
    "# Compare the text content of both files\n",
    "diff = list(unified_diff(original_texts, normalized_texts, fromfile='original', tofile='normalized', lineterm=''))\n",
    "\n",
    "# Print the differences\n",
    "if diff:\n",
    "    for line in diff:\n",
    "        print(line)\n",
    "else:\n",
    "    print(\"No differences found.\")\n"
   ]
  },
  {
   "cell_type": "code",
   "execution_count": null,
   "id": "81230662-70f9-4c5d-80d3-029e62a30ceb",
   "metadata": {},
   "outputs": [],
   "source": []
  }
 ],
 "metadata": {
  "kernelspec": {
   "display_name": "Python 3 (ipykernel)",
   "language": "python",
   "name": "python3"
  },
  "language_info": {
   "codemirror_mode": {
    "name": "ipython",
    "version": 3
   },
   "file_extension": ".py",
   "mimetype": "text/x-python",
   "name": "python",
   "nbconvert_exporter": "python",
   "pygments_lexer": "ipython3",
   "version": "3.12.4"
  }
 },
 "nbformat": 4,
 "nbformat_minor": 5
}
