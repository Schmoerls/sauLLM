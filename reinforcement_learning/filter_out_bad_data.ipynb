{
 "cells": [
  {
   "cell_type": "markdown",
   "id": "a03220d7-ded5-4746-97ff-047ebd825bfd",
   "metadata": {},
   "source": [
    "### Because even the good model sometimes produces bad output, this notebook filters out all the very bad cases like special characters and repetitions."
   ]
  },
  {
   "cell_type": "code",
   "execution_count": 1,
   "id": "ed379c80-2e5b-41a7-82eb-d4144083df77",
   "metadata": {},
   "outputs": [],
   "source": [
    "import os\n",
    "import json\n",
    "import string\n",
    "import re\n",
    "\n",
    "# Define the folder paths\n",
    "good_data_folder = \"./good_data/\"\n",
    "bad_data_file = \"./bad_data/extracted_bad_data.json\"\n",
    "\n",
    "# Initialize a list to hold the bad data\n",
    "bad_data = []"
   ]
  },
  {
   "cell_type": "code",
   "execution_count": 2,
   "id": "be0c9978-4435-4ce9-b2a2-beaca1fa6db7",
   "metadata": {},
   "outputs": [],
   "source": [
    "# Function to check for high percentage of non-alphanumeric characters\n",
    "def is_nonsensical(text, threshold):  \n",
    "    non_alphanumeric_count = sum(1 for char in text if not char.isalnum() and char not in string.whitespace)\n",
    "    if len(text) == 0:\n",
    "        return True\n",
    "    ratio = non_alphanumeric_count / len(text)\n",
    "    return ratio > threshold\n",
    "\n",
    "# Function to detect extremely long sequences of gibberish\n",
    "def has_long_gibberish_sequence(text, max_gibberish_length):  # Define a limit for gibberish sequences\n",
    "    return len(re.sub(r'[a-zA-Z0-9\\s]', '', text)) > max_gibberish_length\n",
    "\n",
    "# Function to check for long words\n",
    "def has_long_word(text, max_word_length):\n",
    "    words = re.findall(r'\\b\\w+\\b', text)\n",
    "    return any(len(word) > max_word_length for word in words)\n",
    "\n",
    "# Function to check for excessive repetition of words or characters\n",
    "def has_excessive_repetition(text, repetition_threshold):  # Tolerance of up to 30% repetition\n",
    "    words = text.split()\n",
    "    unique_words = set(words)\n",
    "    if len(words) == 0:\n",
    "        return True\n",
    "    repetition_ratio = len(unique_words) / len(words)\n",
    "    return repetition_ratio < (1 - repetition_threshold / 100)\n",
    "\n",
    "# Function to check for long sequences of special characters\n",
    "def contains_long_special_character_sequence(text, max_sequence_length=8):  # Reduce tolerance to 8 consecutive special chars\n",
    "    return bool(re.search(r'[^a-zA-Z0-9\\s]{' + str(max_sequence_length) + ',}', text))\n",
    "\n",
    "# Combined filtering function\n",
    "def filter_nonsense(text, special_char_threshold=0.4, max_word_length=50, repetition_threshold=30, max_special_char_sequence=8, max_gibberish_length=100):\n",
    "    if is_nonsensical(text, special_char_threshold):\n",
    "        return True\n",
    "    if has_long_word(text, max_word_length):\n",
    "        return True\n",
    "    if has_excessive_repetition(text, repetition_threshold):\n",
    "        return True\n",
    "    if contains_long_special_character_sequence(text, max_special_char_sequence):\n",
    "        return True\n",
    "    if has_long_gibberish_sequence(text, max_gibberish_length):\n",
    "        return True\n",
    "    return False\n",
    "\n",
    "# Function to process each file and filter out bad data\n",
    "def process_files(good_data_folder, bad_data_file):\n",
    "    # Iterate over every file in the folder\n",
    "    for filename in os.listdir(good_data_folder):\n",
    "        file_path = os.path.join(good_data_folder, filename)\n",
    "\n",
    "        # Skip directories\n",
    "        if os.path.isdir(file_path):\n",
    "            continue\n",
    "\n",
    "        # Check if it's a JSON file\n",
    "        if not filename.endswith(\".json\"):\n",
    "            continue\n",
    "\n",
    "        # Load the file\n",
    "        with open(file_path, 'r', encoding='utf-8') as f:\n",
    "            try:\n",
    "                data = json.load(f)\n",
    "            except json.JSONDecodeError:\n",
    "                print(f\"Could not decode JSON from {file_path}\")\n",
    "                continue\n",
    "\n",
    "        filtered_data = []\n",
    "        for entry in data:\n",
    "            input_text = entry.get(\"input\", \"\")\n",
    "            output_text = entry.get(\"output\", \"\")\n",
    "\n",
    "            # Check if the output is nonsensical or contains gibberish\n",
    "            if filter_nonsense(output_text):\n",
    "                bad_data.append({\"input\": input_text, \"output\": output_text})\n",
    "            else:\n",
    "                filtered_data.append(entry)\n",
    "\n",
    "        # Overwrite the original file with filtered data\n",
    "        with open(file_path, 'w', encoding='utf-8') as f:\n",
    "            json.dump(filtered_data, f, ensure_ascii=False, indent=4)\n",
    "    \n",
    "    # Save the bad data to a separate file\n",
    "    with open(bad_data_file, 'w', encoding='utf-8') as f:\n",
    "        json.dump(bad_data, f, ensure_ascii=False, indent=4)\n",
    "\n",
    "    print(f\"Filtered bad data saved to {bad_data_file}\")"
   ]
  },
  {
   "cell_type": "code",
   "execution_count": 3,
   "id": "0bde0476-0228-4a7c-8db8-52347956528c",
   "metadata": {},
   "outputs": [
    {
     "name": "stdout",
     "output_type": "stream",
     "text": [
      "Filtered bad data saved to ./bad_data/extracted_bad_data.json\n"
     ]
    }
   ],
   "source": [
    "process_files(good_data_folder, bad_data_file)"
   ]
  },
  {
   "cell_type": "code",
   "execution_count": null,
   "id": "34c3fee6-e657-4fbc-a4f0-07d0a152f9b0",
   "metadata": {},
   "outputs": [],
   "source": []
  }
 ],
 "metadata": {
  "kernelspec": {
   "display_name": "Python 3 (ipykernel)",
   "language": "python",
   "name": "python3"
  },
  "language_info": {
   "codemirror_mode": {
    "name": "ipython",
    "version": 3
   },
   "file_extension": ".py",
   "mimetype": "text/x-python",
   "name": "python",
   "nbconvert_exporter": "python",
   "pygments_lexer": "ipython3",
   "version": "3.10.14"
  }
 },
 "nbformat": 4,
 "nbformat_minor": 5
}
